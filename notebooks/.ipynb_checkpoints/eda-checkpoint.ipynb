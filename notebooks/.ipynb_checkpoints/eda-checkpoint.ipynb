{
 "cells": [
  {
   "cell_type": "markdown",
   "id": "be9e5d2c",
   "metadata": {},
   "source": [
    "## Importing Libraries"
   ]
  },
  {
   "cell_type": "code",
   "execution_count": 1,
   "id": "4d7962fb",
   "metadata": {},
   "outputs": [],
   "source": [
    "import pandas as pd \n",
    "import numpy as np \n",
    "import matplotlib.pyplot as plt \n",
    "import seaborn as sns\n",
    "import pickle "
   ]
  },
  {
   "cell_type": "markdown",
   "id": "1ac10488",
   "metadata": {},
   "source": [
    "### Loading the dataset"
   ]
  },
  {
   "cell_type": "code",
<<<<<<< Updated upstream
<<<<<<< Updated upstream
   "execution_count": 5,
=======
   "execution_count": 8,
>>>>>>> Stashed changes
=======
   "execution_count": 8,
>>>>>>> Stashed changes
   "id": "ec7ec159",
   "metadata": {},
   "outputs": [
    {
     "data": {
      "text/html": [
       "<div>\n",
       "<style scoped>\n",
       "    .dataframe tbody tr th:only-of-type {\n",
       "        vertical-align: middle;\n",
       "    }\n",
       "\n",
       "    .dataframe tbody tr th {\n",
       "        vertical-align: top;\n",
       "    }\n",
       "\n",
       "    .dataframe thead th {\n",
       "        text-align: right;\n",
       "    }\n",
       "</style>\n",
       "<table border=\"1\" class=\"dataframe\">\n",
       "  <thead>\n",
       "    <tr style=\"text-align: right;\">\n",
       "      <th></th>\n",
       "      <th>id</th>\n",
       "      <th>road_type</th>\n",
       "      <th>num_lanes</th>\n",
       "      <th>curvature</th>\n",
       "      <th>speed_limit</th>\n",
       "      <th>lighting</th>\n",
       "      <th>weather</th>\n",
       "      <th>road_signs_present</th>\n",
       "      <th>public_road</th>\n",
       "      <th>time_of_day</th>\n",
       "      <th>holiday</th>\n",
       "      <th>school_season</th>\n",
       "      <th>num_reported_accidents</th>\n",
       "      <th>accident_risk</th>\n",
       "    </tr>\n",
       "  </thead>\n",
       "  <tbody>\n",
       "    <tr>\n",
       "      <th>0</th>\n",
       "      <td>0</td>\n",
       "      <td>urban</td>\n",
       "      <td>2</td>\n",
       "      <td>0.06</td>\n",
       "      <td>35</td>\n",
       "      <td>daylight</td>\n",
       "      <td>rainy</td>\n",
       "      <td>False</td>\n",
       "      <td>True</td>\n",
       "      <td>afternoon</td>\n",
       "      <td>False</td>\n",
       "      <td>True</td>\n",
       "      <td>1</td>\n",
       "      <td>0.13</td>\n",
       "    </tr>\n",
       "    <tr>\n",
       "      <th>1</th>\n",
       "      <td>1</td>\n",
       "      <td>urban</td>\n",
       "      <td>4</td>\n",
       "      <td>0.99</td>\n",
       "      <td>35</td>\n",
       "      <td>daylight</td>\n",
       "      <td>clear</td>\n",
       "      <td>True</td>\n",
       "      <td>False</td>\n",
       "      <td>evening</td>\n",
       "      <td>True</td>\n",
       "      <td>True</td>\n",
       "      <td>0</td>\n",
       "      <td>0.35</td>\n",
       "    </tr>\n",
       "    <tr>\n",
       "      <th>2</th>\n",
       "      <td>2</td>\n",
       "      <td>rural</td>\n",
       "      <td>4</td>\n",
       "      <td>0.63</td>\n",
       "      <td>70</td>\n",
       "      <td>dim</td>\n",
       "      <td>clear</td>\n",
       "      <td>False</td>\n",
       "      <td>True</td>\n",
       "      <td>morning</td>\n",
       "      <td>True</td>\n",
       "      <td>False</td>\n",
       "      <td>2</td>\n",
       "      <td>0.30</td>\n",
       "    </tr>\n",
       "    <tr>\n",
       "      <th>3</th>\n",
       "      <td>3</td>\n",
       "      <td>highway</td>\n",
       "      <td>4</td>\n",
       "      <td>0.07</td>\n",
       "      <td>35</td>\n",
       "      <td>dim</td>\n",
       "      <td>rainy</td>\n",
       "      <td>True</td>\n",
       "      <td>True</td>\n",
       "      <td>morning</td>\n",
       "      <td>False</td>\n",
       "      <td>False</td>\n",
       "      <td>1</td>\n",
       "      <td>0.21</td>\n",
       "    </tr>\n",
       "    <tr>\n",
       "      <th>4</th>\n",
       "      <td>4</td>\n",
       "      <td>rural</td>\n",
       "      <td>1</td>\n",
       "      <td>0.58</td>\n",
       "      <td>60</td>\n",
       "      <td>daylight</td>\n",
       "      <td>foggy</td>\n",
       "      <td>False</td>\n",
       "      <td>False</td>\n",
       "      <td>evening</td>\n",
       "      <td>True</td>\n",
       "      <td>False</td>\n",
       "      <td>1</td>\n",
       "      <td>0.56</td>\n",
       "    </tr>\n",
       "  </tbody>\n",
       "</table>\n",
       "</div>"
      ],
      "text/plain": [
       "   id road_type  num_lanes  curvature  speed_limit  lighting weather  \\\n",
       "0   0     urban          2       0.06           35  daylight   rainy   \n",
       "1   1     urban          4       0.99           35  daylight   clear   \n",
       "2   2     rural          4       0.63           70       dim   clear   \n",
       "3   3   highway          4       0.07           35       dim   rainy   \n",
       "4   4     rural          1       0.58           60  daylight   foggy   \n",
       "\n",
       "   road_signs_present  public_road time_of_day  holiday  school_season  \\\n",
       "0               False         True   afternoon    False           True   \n",
       "1                True        False     evening     True           True   \n",
       "2               False         True     morning     True          False   \n",
       "3                True         True     morning    False          False   \n",
       "4               False        False     evening     True          False   \n",
       "\n",
       "   num_reported_accidents  accident_risk  \n",
       "0                       1           0.13  \n",
       "1                       0           0.35  \n",
       "2                       2           0.30  \n",
       "3                       1           0.21  \n",
       "4                       1           0.56  "
      ]
     },
<<<<<<< Updated upstream
<<<<<<< Updated upstream
     "execution_count": 5,
=======
     "execution_count": 8,
>>>>>>> Stashed changes
=======
     "execution_count": 8,
>>>>>>> Stashed changes
     "metadata": {},
     "output_type": "execute_result"
    }
   ],
   "source": [
    "df = pd.read_csv('../data/train.csv')\n",
    "df.head()"
   ]
  },
  {
   "cell_type": "markdown",
   "id": "65e53414",
   "metadata": {},
   "source": [
    "### Inspecting the dataset"
   ]
  },
  {
   "cell_type": "code",
<<<<<<< Updated upstream
<<<<<<< Updated upstream
   "execution_count": 6,
=======
   "execution_count": 4,
>>>>>>> Stashed changes
=======
   "execution_count": 4,
>>>>>>> Stashed changes
   "id": "3e40042e",
   "metadata": {},
   "outputs": [
    {
     "name": "stdout",
     "output_type": "stream",
     "text": [
      "<class 'pandas.core.frame.DataFrame'>\n",
      "RangeIndex: 517754 entries, 0 to 517753\n",
      "Data columns (total 14 columns):\n",
      " #   Column                  Non-Null Count   Dtype  \n",
      "---  ------                  --------------   -----  \n",
      " 0   id                      517754 non-null  int64  \n",
      " 1   road_type               517754 non-null  object \n",
      " 2   num_lanes               517754 non-null  int64  \n",
      " 3   curvature               517754 non-null  float64\n",
      " 4   speed_limit             517754 non-null  int64  \n",
      " 5   lighting                517754 non-null  object \n",
      " 6   weather                 517754 non-null  object \n",
      " 7   road_signs_present      517754 non-null  bool   \n",
      " 8   public_road             517754 non-null  bool   \n",
      " 9   time_of_day             517754 non-null  object \n",
      " 10  holiday                 517754 non-null  bool   \n",
      " 11  school_season           517754 non-null  bool   \n",
      " 12  num_reported_accidents  517754 non-null  int64  \n",
      " 13  accident_risk           517754 non-null  float64\n",
      "dtypes: bool(4), float64(2), int64(4), object(4)\n",
      "memory usage: 41.5+ MB\n"
     ]
    }
   ],
   "source": [
    "df.info()"
   ]
  },
  {
   "cell_type": "markdown",
   "id": "a7844b47",
   "metadata": {},
   "source": [
    "We see that the dataset contains categorical, boolean and numerical columns. However, there are no missing values, which saves us the trouble of having to imput or drop these missing values. The presence of non-numerical columns makes it necessary to do some form of encoding. "
   ]
  },
  {
   "cell_type": "code",
<<<<<<< Updated upstream
<<<<<<< Updated upstream
   "execution_count": 7,
=======
   "execution_count": 6,
>>>>>>> Stashed changes
=======
   "execution_count": 6,
>>>>>>> Stashed changes
   "id": "41ec031d",
   "metadata": {},
   "outputs": [
    {
     "data": {
      "text/html": [
       "<div>\n",
       "<style scoped>\n",
       "    .dataframe tbody tr th:only-of-type {\n",
       "        vertical-align: middle;\n",
       "    }\n",
       "\n",
       "    .dataframe tbody tr th {\n",
       "        vertical-align: top;\n",
       "    }\n",
       "\n",
       "    .dataframe thead th {\n",
       "        text-align: right;\n",
       "    }\n",
       "</style>\n",
       "<table border=\"1\" class=\"dataframe\">\n",
       "  <thead>\n",
       "    <tr style=\"text-align: right;\">\n",
       "      <th></th>\n",
       "      <th>id</th>\n",
       "      <th>num_lanes</th>\n",
       "      <th>curvature</th>\n",
       "      <th>speed_limit</th>\n",
       "      <th>num_reported_accidents</th>\n",
       "      <th>accident_risk</th>\n",
       "    </tr>\n",
       "  </thead>\n",
       "  <tbody>\n",
       "    <tr>\n",
       "      <th>count</th>\n",
       "      <td>517754.000000</td>\n",
       "      <td>517754.000000</td>\n",
       "      <td>517754.000000</td>\n",
       "      <td>517754.000000</td>\n",
       "      <td>517754.000000</td>\n",
       "      <td>517754.000000</td>\n",
       "    </tr>\n",
       "    <tr>\n",
       "      <th>mean</th>\n",
       "      <td>258876.500000</td>\n",
       "      <td>2.491511</td>\n",
       "      <td>0.488719</td>\n",
       "      <td>46.112575</td>\n",
       "      <td>1.187970</td>\n",
       "      <td>0.352377</td>\n",
       "    </tr>\n",
       "    <tr>\n",
       "      <th>std</th>\n",
<<<<<<< Updated upstream
<<<<<<< Updated upstream
       "      <td>149462.849975</td>\n",
=======
       "      <td>149462.849974</td>\n",
>>>>>>> Stashed changes
=======
       "      <td>149462.849974</td>\n",
>>>>>>> Stashed changes
       "      <td>1.120434</td>\n",
       "      <td>0.272563</td>\n",
       "      <td>15.788521</td>\n",
       "      <td>0.895961</td>\n",
       "      <td>0.166417</td>\n",
       "    </tr>\n",
       "    <tr>\n",
       "      <th>min</th>\n",
       "      <td>0.000000</td>\n",
       "      <td>1.000000</td>\n",
       "      <td>0.000000</td>\n",
       "      <td>25.000000</td>\n",
       "      <td>0.000000</td>\n",
       "      <td>0.000000</td>\n",
       "    </tr>\n",
       "    <tr>\n",
       "      <th>25%</th>\n",
       "      <td>129438.250000</td>\n",
       "      <td>1.000000</td>\n",
       "      <td>0.260000</td>\n",
       "      <td>35.000000</td>\n",
       "      <td>1.000000</td>\n",
       "      <td>0.230000</td>\n",
       "    </tr>\n",
       "    <tr>\n",
       "      <th>50%</th>\n",
       "      <td>258876.500000</td>\n",
       "      <td>2.000000</td>\n",
       "      <td>0.510000</td>\n",
       "      <td>45.000000</td>\n",
       "      <td>1.000000</td>\n",
       "      <td>0.340000</td>\n",
       "    </tr>\n",
       "    <tr>\n",
       "      <th>75%</th>\n",
       "      <td>388314.750000</td>\n",
       "      <td>3.000000</td>\n",
       "      <td>0.710000</td>\n",
       "      <td>60.000000</td>\n",
       "      <td>2.000000</td>\n",
       "      <td>0.460000</td>\n",
       "    </tr>\n",
       "    <tr>\n",
       "      <th>max</th>\n",
       "      <td>517753.000000</td>\n",
       "      <td>4.000000</td>\n",
       "      <td>1.000000</td>\n",
       "      <td>70.000000</td>\n",
       "      <td>7.000000</td>\n",
       "      <td>1.000000</td>\n",
       "    </tr>\n",
       "  </tbody>\n",
       "</table>\n",
       "</div>"
      ],
      "text/plain": [
       "                  id      num_lanes      curvature    speed_limit  \\\n",
       "count  517754.000000  517754.000000  517754.000000  517754.000000   \n",
       "mean   258876.500000       2.491511       0.488719      46.112575   \n",
<<<<<<< Updated upstream
<<<<<<< Updated upstream
       "std    149462.849975       1.120434       0.272563      15.788521   \n",
=======
       "std    149462.849974       1.120434       0.272563      15.788521   \n",
>>>>>>> Stashed changes
=======
       "std    149462.849974       1.120434       0.272563      15.788521   \n",
>>>>>>> Stashed changes
       "min         0.000000       1.000000       0.000000      25.000000   \n",
       "25%    129438.250000       1.000000       0.260000      35.000000   \n",
       "50%    258876.500000       2.000000       0.510000      45.000000   \n",
       "75%    388314.750000       3.000000       0.710000      60.000000   \n",
       "max    517753.000000       4.000000       1.000000      70.000000   \n",
       "\n",
       "       num_reported_accidents  accident_risk  \n",
       "count           517754.000000  517754.000000  \n",
       "mean                 1.187970       0.352377  \n",
       "std                  0.895961       0.166417  \n",
       "min                  0.000000       0.000000  \n",
       "25%                  1.000000       0.230000  \n",
       "50%                  1.000000       0.340000  \n",
       "75%                  2.000000       0.460000  \n",
       "max                  7.000000       1.000000  "
      ]
     },
<<<<<<< Updated upstream
<<<<<<< Updated upstream
     "execution_count": 7,
=======
     "execution_count": 6,
>>>>>>> Stashed changes
=======
     "execution_count": 6,
>>>>>>> Stashed changes
     "metadata": {},
     "output_type": "execute_result"
    }
   ],
   "source": [
    "df.describe()"
   ]
  },
  {
   "cell_type": "code",
<<<<<<< Updated upstream
<<<<<<< Updated upstream
   "execution_count": 8,
=======
   "execution_count": 7,
>>>>>>> Stashed changes
=======
   "execution_count": 7,
>>>>>>> Stashed changes
   "id": "7789320d",
   "metadata": {},
   "outputs": [
    {
     "data": {
      "text/plain": [
       "id                        0\n",
       "road_type                 0\n",
       "num_lanes                 0\n",
       "curvature                 0\n",
       "speed_limit               0\n",
       "lighting                  0\n",
       "weather                   0\n",
       "road_signs_present        0\n",
       "public_road               0\n",
       "time_of_day               0\n",
       "holiday                   0\n",
       "school_season             0\n",
       "num_reported_accidents    0\n",
       "accident_risk             0\n",
       "dtype: int64"
      ]
     },
<<<<<<< Updated upstream
<<<<<<< Updated upstream
     "execution_count": 8,
=======
     "execution_count": 7,
>>>>>>> Stashed changes
=======
     "execution_count": 7,
>>>>>>> Stashed changes
     "metadata": {},
     "output_type": "execute_result"
    }
   ],
   "source": [
    "df.isna().sum()"
   ]
  },
  {
   "cell_type": "markdown",
   "id": "84f149ac",
   "metadata": {},
   "source": [
    "## Visualisations\n",
    "\n",
    "We will look into visualisations to inspect our dataset and understand patterns within the data."
   ]
  },
  {
   "cell_type": "code",
<<<<<<< Updated upstream
<<<<<<< Updated upstream
   "execution_count": 14,
=======
   "execution_count": 9,
>>>>>>> Stashed changes
=======
   "execution_count": 9,
>>>>>>> Stashed changes
   "id": "b8c4f560",
   "metadata": {},
   "outputs": [
    {
     "data": {
      "text/html": [
       "<div>\n",
       "<style scoped>\n",
       "    .dataframe tbody tr th:only-of-type {\n",
       "        vertical-align: middle;\n",
       "    }\n",
       "\n",
       "    .dataframe tbody tr th {\n",
       "        vertical-align: top;\n",
       "    }\n",
       "\n",
       "    .dataframe thead th {\n",
       "        text-align: right;\n",
       "    }\n",
       "</style>\n",
       "<table border=\"1\" class=\"dataframe\">\n",
       "  <thead>\n",
       "    <tr style=\"text-align: right;\">\n",
       "      <th></th>\n",
       "      <th>road_type</th>\n",
       "      <th>accident_risk</th>\n",
       "    </tr>\n",
       "  </thead>\n",
       "  <tbody>\n",
       "    <tr>\n",
       "      <th>0</th>\n",
       "      <td>highway</td>\n",
       "      <td>0.349734</td>\n",
       "    </tr>\n",
       "    <tr>\n",
       "      <th>1</th>\n",
       "      <td>rural</td>\n",
       "      <td>0.349997</td>\n",
       "    </tr>\n",
       "    <tr>\n",
       "      <th>2</th>\n",
       "      <td>urban</td>\n",
       "      <td>0.357456</td>\n",
       "    </tr>\n",
       "  </tbody>\n",
       "</table>\n",
       "</div>"
      ],
      "text/plain": [
       "  road_type  accident_risk\n",
       "0   highway       0.349734\n",
       "1     rural       0.349997\n",
       "2     urban       0.357456"
      ]
     },
<<<<<<< Updated upstream
<<<<<<< Updated upstream
     "execution_count": 14,
=======
     "execution_count": 9,
>>>>>>> Stashed changes
=======
     "execution_count": 9,
>>>>>>> Stashed changes
     "metadata": {},
     "output_type": "execute_result"
    }
   ],
   "source": [
    "road_type_stats = df.groupby(['road_type'])['accident_risk'].mean().reset_index()\n",
    "road_type_stats"
   ]
  },
  {
   "cell_type": "code",
<<<<<<< Updated upstream
<<<<<<< Updated upstream
   "execution_count": 15,
   "id": "f6e8e629",
   "metadata": {},
   "outputs": [
    {
     "data": {
      "image/png": "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",
      "text/plain": [
       "<Figure size 640x480 with 1 Axes>"
      ]
     },
     "metadata": {},
     "output_type": "display_data"
    }
   ],
   "source": [
    "### Make bar chart for road_type_stats\n",
    "plt.bar(road_type_stats['road_type'],road_type_stats['accident_risk'])\n",
    "plt.title(\"Road types affecting accident risk\")\n",
    "plt.xlabel('road_type')\n",
    "plt.ylabel('accident_risk')\n",
    "plt.show()\n"
=======
=======
>>>>>>> Stashed changes
   "execution_count": null,
   "id": "f6e8e629",
   "metadata": {},
   "outputs": [],
   "source": [
    "### Make bar chart for road_type_stats\n",
    "\n"
<<<<<<< Updated upstream
>>>>>>> Stashed changes
=======
>>>>>>> Stashed changes
   ]
  },
  {
   "cell_type": "code",
<<<<<<< Updated upstream
<<<<<<< Updated upstream
   "execution_count": 17,
=======
   "execution_count": 10,
>>>>>>> Stashed changes
=======
   "execution_count": 10,
>>>>>>> Stashed changes
   "id": "639200be",
   "metadata": {},
   "outputs": [
    {
     "name": "stdout",
     "output_type": "stream",
     "text": [
      "  weather  accident_risk\n",
      "0   clear       0.310060\n",
      "1   foggy       0.386305\n",
      "2   rainy       0.361494\n"
     ]
    }
   ],
   "source": [
    "weather_stats = df.groupby(['weather'])['accident_risk'].mean().reset_index()\n",
    "print(weather_stats)"
   ]
  },
  {
   "cell_type": "code",
<<<<<<< Updated upstream
<<<<<<< Updated upstream
   "execution_count": 18,
   "id": "0c3ea5c2",
   "metadata": {},
   "outputs": [
    {
     "data": {
      "image/png": "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",
      "text/plain": [
       "<Figure size 640x480 with 1 Axes>"
      ]
     },
     "metadata": {},
     "output_type": "display_data"
    }
   ],
   "source": [
    "### Make bar chart here too\n",
    "plt.bar(weather_stats['weather'],weather_stats['accident_risk'])\n",
    "plt.title(\"Road types affecting accident risk\")\n",
    "plt.xlabel('Weather')\n",
    "plt.ylabel('Accident Risk')\n",
    "plt.show()"
=======
=======
>>>>>>> Stashed changes
   "execution_count": 11,
   "id": "0c3ea5c2",
   "metadata": {},
   "outputs": [],
   "source": [
    "### Make bar chart here too"
<<<<<<< Updated upstream
>>>>>>> Stashed changes
=======
>>>>>>> Stashed changes
   ]
  },
  {
   "cell_type": "code",
<<<<<<< Updated upstream
<<<<<<< Updated upstream
   "execution_count": 35,
   "id": "ea73ee3e-c806-4d80-91c0-fbc5d85f2f7a",
   "metadata": {},
   "outputs": [
    {
     "data": {
      "text/html": [
       "<div>\n",
       "<style scoped>\n",
       "    .dataframe tbody tr th:only-of-type {\n",
       "        vertical-align: middle;\n",
       "    }\n",
       "\n",
       "    .dataframe tbody tr th {\n",
       "        vertical-align: top;\n",
       "    }\n",
       "\n",
       "    .dataframe thead th {\n",
       "        text-align: right;\n",
       "    }\n",
       "</style>\n",
       "<table border=\"1\" class=\"dataframe\">\n",
       "  <thead>\n",
       "    <tr style=\"text-align: right;\">\n",
       "      <th></th>\n",
       "      <th>id</th>\n",
       "      <th>road_type</th>\n",
       "      <th>num_lanes</th>\n",
       "      <th>curvature</th>\n",
       "      <th>speed_limit</th>\n",
       "      <th>lighting</th>\n",
       "      <th>weather</th>\n",
       "      <th>road_signs_present</th>\n",
       "      <th>public_road</th>\n",
       "      <th>time_of_day</th>\n",
       "      <th>holiday</th>\n",
       "      <th>school_season</th>\n",
       "      <th>num_reported_accidents</th>\n",
       "      <th>accident_risk</th>\n",
       "    </tr>\n",
       "  </thead>\n",
       "  <tbody>\n",
       "    <tr>\n",
       "      <th>0</th>\n",
       "      <td>0</td>\n",
       "      <td>urban</td>\n",
       "      <td>2</td>\n",
       "      <td>0.06</td>\n",
       "      <td>35</td>\n",
       "      <td>daylight</td>\n",
       "      <td>rainy</td>\n",
       "      <td>False</td>\n",
       "      <td>True</td>\n",
       "      <td>afternoon</td>\n",
       "      <td>False</td>\n",
       "      <td>True</td>\n",
       "      <td>1</td>\n",
       "      <td>0.13</td>\n",
       "    </tr>\n",
       "  </tbody>\n",
       "</table>\n",
       "</div>"
      ],
      "text/plain": [
       "   id road_type  num_lanes  curvature  speed_limit  lighting weather  \\\n",
       "0   0     urban          2       0.06           35  daylight   rainy   \n",
       "\n",
       "   road_signs_present  public_road time_of_day  holiday  school_season  \\\n",
       "0               False         True   afternoon    False           True   \n",
       "\n",
       "   num_reported_accidents  accident_risk  \n",
       "0                       1           0.13  "
      ]
     },
     "execution_count": 35,
     "metadata": {},
     "output_type": "execute_result"
    }
   ],
   "source": [
    "df.head(1)"
   ]
  },
  {
   "cell_type": "code",
   "execution_count": null,
=======
   "execution_count": 12,
>>>>>>> Stashed changes
=======
   "execution_count": 12,
>>>>>>> Stashed changes
   "id": "c9a5709a",
   "metadata": {},
   "outputs": [],
   "source": [
<<<<<<< Updated upstream
<<<<<<< Updated upstream
    "### Make visualisations showing diff in accident risk based on all the boolean variables\n",
    "plt.bar(df['num_reported_accidents'],df['road_signs_present'])\n",
    "plt.title('Number of accident when road signs are not present')\n",
    "plt.show()\n"
   ]
  },
  {
   "cell_type": "code",
   "execution_count": 33,
   "id": "9167d5fe",
   "metadata": {},
   "outputs": [
    {
     "name": "stdout",
     "output_type": "stream",
     "text": [
      "                              id  num_lanes  curvature  speed_limit  \\\n",
      "id                      1.000000  -0.000434   0.000938    -0.000678   \n",
      "num_lanes              -0.000434   1.000000  -0.020245     0.001194   \n",
      "curvature               0.000938  -0.020245   1.000000     0.008399   \n",
      "speed_limit            -0.000678   0.001194   0.008399     1.000000   \n",
      "road_signs_present     -0.001594  -0.000498   0.017168    -0.004461   \n",
      "public_road             0.000554  -0.002041   0.048220     0.011497   \n",
      "holiday                -0.001582   0.002544   0.063931     0.010992   \n",
      "school_season          -0.001567  -0.001081  -0.004502     0.004392   \n",
      "num_reported_accidents  0.000104   0.017662   0.145034     0.031373   \n",
      "accident_risk           0.000969  -0.006003   0.543946     0.430898   \n",
      "\n",
      "                        road_signs_present  public_road   holiday  \\\n",
      "id                               -0.001594     0.000554 -0.001582   \n",
      "num_lanes                        -0.000498    -0.002041  0.002544   \n",
      "curvature                         0.017168     0.048220  0.063931   \n",
      "speed_limit                      -0.004461     0.011497  0.010992   \n",
      "road_signs_present                1.000000     0.003828 -0.003813   \n",
      "public_road                       0.003828     1.000000 -0.007920   \n",
      "holiday                          -0.003813    -0.007920  1.000000   \n",
      "school_season                     0.002287     0.004117 -0.001514   \n",
      "num_reported_accidents           -0.000162    -0.007026 -0.015053   \n",
      "accident_risk                     0.000629     0.031032  0.051129   \n",
      "\n",
      "                        school_season  num_reported_accidents  accident_risk  \n",
      "id                          -0.001567                0.000104       0.000969  \n",
      "num_lanes                   -0.001081                0.017662      -0.006003  \n",
      "curvature                   -0.004502                0.145034       0.543946  \n",
      "speed_limit                  0.004392                0.031373       0.430898  \n",
      "road_signs_present           0.002287               -0.000162       0.000629  \n",
      "public_road                  0.004117               -0.007026       0.031032  \n",
      "holiday                     -0.001514               -0.015053       0.051129  \n",
      "school_season                1.000000                0.003962      -0.000977  \n",
      "num_reported_accidents       0.003962                1.000000       0.213891  \n",
      "accident_risk               -0.000977                0.213891       1.000000  \n"
     ]
    },
    {
     "data": {
      "image/png": "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",
      "text/plain": [
       "<Figure size 1000x800 with 2 Axes>"
      ]
     },
     "metadata": {},
     "output_type": "display_data"
    }
   ],
   "source": [
    "### Find out how to make a correlation matrix using sns.heatmap and use it on this data\n",
    "plt.figure(figsize=(10,8))\n",
    "cor_matrix = df.corr(numeric_only = True)\n",
    "print(cor_matrix)\n",
    "heat_map = sns.heatmap(cor_matrix, cmap='coolwarm',fmt =\".3f\",annot_kws= {\"size\":8},annot=True)\n",
    "heat_map.set_aspect(1.2)"
=======
    "### Make visualisations showing diff in accident risk based on all the boolean variables"
>>>>>>> Stashed changes
=======
    "### Make visualisations showing diff in accident risk based on all the boolean variables"
>>>>>>> Stashed changes
   ]
  },
  {
   "cell_type": "markdown",
   "id": "fddb353a",
   "metadata": {},
   "source": [
    "### Inspecting the target variable \n",
    "\n",
    "We saw in df.describe that the mean accident risk across all variables is around 0.35 which is quite high. Now, let us look into more characteristics of this target variable and we will try to see the relation of the numerical variables on the target variable. We will do this by first changing the target variable into a binary variable. We will divide the accident risk into two: high risk instances (accident_risk > 0.5) and low risk instances. "
   ]
  },
  {
   "cell_type": "code",
   "execution_count": 17,
   "id": "d754d866",
   "metadata": {},
   "outputs": [],
   "source": [
    "df['accident_risk_binary'] = (df['accident_risk'] > 0.5).astype(int)"
   ]
  },
  {
   "cell_type": "code",
   "execution_count": 19,
   "id": "078bbb1d",
   "metadata": {},
   "outputs": [
    {
     "data": {
      "text/plain": [
       "accident_risk_binary\n",
       "0    426581\n",
       "1     91173\n",
       "Name: count, dtype: int64"
      ]
     },
     "execution_count": 19,
     "metadata": {},
     "output_type": "execute_result"
    }
   ],
   "source": [
    "df['accident_risk_binary'].value_counts()"
   ]
  },
  {
   "cell_type": "markdown",
   "id": "84ae0919",
   "metadata": {},
   "source": [
    "We see that there are almost 5 times as many instances of low accident risk than there are high accident risk instances."
   ]
  },
  {
   "cell_type": "code",
   "execution_count": 20,
   "id": "7255fa60",
   "metadata": {},
   "outputs": [
    {
     "name": "stdout",
     "output_type": "stream",
     "text": [
      "   accident_risk_binary  curvature\n",
      "0                     0   0.440490\n",
      "1                     1   0.714374\n"
     ]
    }
   ],
   "source": [
    "curvature_stats = df.groupby(['accident_risk_binary'])['curvature'].mean().reset_index()\n",
    "print(curvature_stats)"
   ]
  },
  {
   "cell_type": "markdown",
   "id": "26165f9a",
   "metadata": {},
   "source": [
    "This provides us with some really useful insights about accident_risk. We see that on average, cases with higher accident risk tends to have a much higher curvature. This is expected as roads with a lot of curvature are generally harder to drive on."
   ]
  }
 ],
 "metadata": {
  "kernelspec": {
<<<<<<< Updated upstream
<<<<<<< Updated upstream
   "display_name": "Python 3 (ipykernel)",
=======
   "display_name": "churnenv",
>>>>>>> Stashed changes
=======
   "display_name": "churnenv",
>>>>>>> Stashed changes
   "language": "python",
   "name": "python3"
  },
  "language_info": {
   "codemirror_mode": {
    "name": "ipython",
    "version": 3
   },
   "file_extension": ".py",
   "mimetype": "text/x-python",
   "name": "python",
   "nbconvert_exporter": "python",
   "pygments_lexer": "ipython3",
<<<<<<< Updated upstream
<<<<<<< Updated upstream
   "version": "3.12.6"
=======
   "version": "3.13.7"
>>>>>>> Stashed changes
=======
   "version": "3.13.7"
>>>>>>> Stashed changes
  }
 },
 "nbformat": 4,
 "nbformat_minor": 5
}
